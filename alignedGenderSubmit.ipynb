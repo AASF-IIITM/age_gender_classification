{
  "nbformat": 4,
  "nbformat_minor": 0,
  "metadata": {
    "colab": {
      "name": "alignedGenderSubmit.ipynb",
      "provenance": [],
      "authorship_tag": "ABX9TyPMZPE8qSQ2kFE3GkGHFuKh",
      "include_colab_link": true
    },
    "kernelspec": {
      "name": "python3",
      "display_name": "Python 3"
    },
    "accelerator": "GPU"
  },
  "cells": [
    {
      "cell_type": "markdown",
      "metadata": {
        "id": "view-in-github",
        "colab_type": "text"
      },
      "source": [
        "<a href=\"https://colab.research.google.com/github/gupta-keshav/age_gender_classification/blob/master/alignedGenderSubmit.ipynb\" target=\"_parent\"><img src=\"https://colab.research.google.com/assets/colab-badge.svg\" alt=\"Open In Colab\"/></a>"
      ]
    },
    {
      "cell_type": "code",
      "metadata": {
        "id": "Hi2bD-3JgRSj",
        "colab_type": "code",
        "outputId": "2b8ea2b6-cf10-4e78-a7cc-e6c3db64c419",
        "colab": {
          "base_uri": "https://localhost:8080/",
          "height": 129
        }
      },
      "source": [
        "from google.colab import drive\n",
        "drive.mount('/content/drive')"
      ],
      "execution_count": 1,
      "outputs": [
        {
          "output_type": "stream",
          "text": [
            "Go to this URL in a browser: https://accounts.google.com/o/oauth2/auth?client_id=947318989803-6bn6qk8qdgf4n4g3pfee6491hc0brc4i.apps.googleusercontent.com&redirect_uri=urn%3aietf%3awg%3aoauth%3a2.0%3aoob&response_type=code&scope=email%20https%3a%2f%2fwww.googleapis.com%2fauth%2fdocs.test%20https%3a%2f%2fwww.googleapis.com%2fauth%2fdrive%20https%3a%2f%2fwww.googleapis.com%2fauth%2fdrive.photos.readonly%20https%3a%2f%2fwww.googleapis.com%2fauth%2fpeopleapi.readonly\n",
            "\n",
            "Enter your authorization code:\n",
            "··········\n",
            "Mounted at /content/drive\n"
          ],
          "name": "stdout"
        }
      ]
    },
    {
      "cell_type": "code",
      "metadata": {
        "id": "3jHHU8MhgZaT",
        "colab_type": "code",
        "outputId": "130f5fdd-e9e2-42cd-dc5d-29fc3d0d8ef4",
        "colab": {
          "base_uri": "https://localhost:8080/",
          "height": 201
        }
      },
      "source": [
        "%pip install patool\n",
        "import patoolib\n",
        "patoolib.extract_archive(\"/content/drive/My Drive/Adience/alignedGender.rar\", outdir=\"/content\")"
      ],
      "execution_count": 2,
      "outputs": [
        {
          "output_type": "stream",
          "text": [
            "Collecting patool\n",
            "\u001b[?25l  Downloading https://files.pythonhosted.org/packages/43/94/52243ddff508780dd2d8110964320ab4851134a55ab102285b46e740f76a/patool-1.12-py2.py3-none-any.whl (77kB)\n",
            "\r\u001b[K     |████▎                           | 10kB 28.9MB/s eta 0:00:01\r\u001b[K     |████████▌                       | 20kB 2.8MB/s eta 0:00:01\r\u001b[K     |████████████▊                   | 30kB 4.1MB/s eta 0:00:01\r\u001b[K     |█████████████████               | 40kB 2.8MB/s eta 0:00:01\r\u001b[K     |█████████████████████▏          | 51kB 3.5MB/s eta 0:00:01\r\u001b[K     |█████████████████████████▍      | 61kB 4.1MB/s eta 0:00:01\r\u001b[K     |█████████████████████████████▋  | 71kB 4.8MB/s eta 0:00:01\r\u001b[K     |████████████████████████████████| 81kB 4.0MB/s \n",
            "\u001b[?25hInstalling collected packages: patool\n",
            "Successfully installed patool-1.12\n",
            "patool: Extracting /content/drive/My Drive/Adience/alignedGender.rar ...\n",
            "patool: running /usr/bin/unrar x -- \"/content/drive/My Drive/Adience/alignedGender.rar\"\n",
            "patool:     with cwd='/content'\n",
            "patool: ... /content/drive/My Drive/Adience/alignedGender.rar extracted to `/content'.\n"
          ],
          "name": "stdout"
        },
        {
          "output_type": "execute_result",
          "data": {
            "text/plain": [
              "'/content'"
            ]
          },
          "metadata": {
            "tags": []
          },
          "execution_count": 2
        }
      ]
    },
    {
      "cell_type": "code",
      "metadata": {
        "id": "H-4IismlglgK",
        "colab_type": "code",
        "colab": {}
      },
      "source": [
        "from keras.models import Sequential\n",
        "from keras.layers import Dense, Dropout, Flatten, Conv2D, MaxPooling2D, AveragePooling2D, PReLU, ReLU\n",
        "from keras import optimizers, regularizers\n",
        "from keras.preprocessing.image import ImageDataGenerator\n",
        "import numpy as np\n",
        "np.random.seed(48)\n",
        "from keras.applications import vgg19\n",
        "from keras.models import Model\n",
        "input_shape = (224, 224, 3)\n",
        "vgg = vgg19.VGG19(include_top=False ,weights='imagenet', \n",
        "                                     input_shape=input_shape)   "
      ],
      "execution_count": 0,
      "outputs": []
    },
    {
      "cell_type": "code",
      "metadata": {
        "id": "7VKsjiXhhH6r",
        "colab_type": "code",
        "colab": {}
      },
      "source": [
        "last = vgg.output"
      ],
      "execution_count": 0,
      "outputs": []
    },
    {
      "cell_type": "code",
      "metadata": {
        "id": "fm8zCVROhUlL",
        "colab_type": "code",
        "outputId": "ea75ec6c-6365-445b-f67d-781de2287328",
        "colab": {
          "base_uri": "https://localhost:8080/",
          "height": 35
        }
      },
      "source": [
        "x = Flatten()(last)\n",
        "x = Dropout(0.3)(x)\n",
        "x = Dense(4096, activation='relu', kernel_regularizer=regularizers.l1_l2(l1=0.1, l2=0.1))(x)\n",
        "x = Dropout(0.55)(x)"
      ],
      "execution_count": 15,
      "outputs": [
        {
          "output_type": "stream",
          "text": [
            "WARNING:tensorflow:Large dropout rate: 0.55 (>0.5). In TensorFlow 2.x, dropout() uses dropout rate instead of keep_prob. Please ensure that this is intended.\n"
          ],
          "name": "stdout"
        }
      ]
    },
    {
      "cell_type": "code",
      "metadata": {
        "id": "ok65GqWjhWvq",
        "colab_type": "code",
        "colab": {}
      },
      "source": [
        "preds = Dense(1, activation = 'sigmoid')(x)"
      ],
      "execution_count": 0,
      "outputs": []
    },
    {
      "cell_type": "code",
      "metadata": {
        "id": "4-poRjNdhYRk",
        "colab_type": "code",
        "colab": {}
      },
      "source": [
        "model = Model(vgg.input, preds)"
      ],
      "execution_count": 0,
      "outputs": []
    },
    {
      "cell_type": "code",
      "metadata": {
        "id": "nif4bgjZhZyK",
        "colab_type": "code",
        "outputId": "dbb55ca1-bf01-4f54-83e3-c25a67ae94f7",
        "colab": {
          "base_uri": "https://localhost:8080/",
          "height": 896
        }
      },
      "source": [
        "import pandas as pd\n",
        "layers = [(layer.output, layer.name, layer.trainable) for layer in model.layers]\n",
        "pd.set_option('max_colwidth', -1)\n",
        "\n",
        "pd.DataFrame(layers, columns=['Layer Type', 'Layer Name', 'Layer Trainable']) "
      ],
      "execution_count": 18,
      "outputs": [
        {
          "output_type": "execute_result",
          "data": {
            "text/html": [
              "<div>\n",
              "<style scoped>\n",
              "    .dataframe tbody tr th:only-of-type {\n",
              "        vertical-align: middle;\n",
              "    }\n",
              "\n",
              "    .dataframe tbody tr th {\n",
              "        vertical-align: top;\n",
              "    }\n",
              "\n",
              "    .dataframe thead th {\n",
              "        text-align: right;\n",
              "    }\n",
              "</style>\n",
              "<table border=\"1\" class=\"dataframe\">\n",
              "  <thead>\n",
              "    <tr style=\"text-align: right;\">\n",
              "      <th></th>\n",
              "      <th>Layer Type</th>\n",
              "      <th>Layer Name</th>\n",
              "      <th>Layer Trainable</th>\n",
              "    </tr>\n",
              "  </thead>\n",
              "  <tbody>\n",
              "    <tr>\n",
              "      <th>0</th>\n",
              "      <td>Tensor(\"input_2:0\", shape=(?, 224, 224, 3), dtype=float32)</td>\n",
              "      <td>input_2</td>\n",
              "      <td>False</td>\n",
              "    </tr>\n",
              "    <tr>\n",
              "      <th>1</th>\n",
              "      <td>Tensor(\"block1_conv1_1/Relu:0\", shape=(?, 224, 224, 64), dtype=float32)</td>\n",
              "      <td>block1_conv1</td>\n",
              "      <td>True</td>\n",
              "    </tr>\n",
              "    <tr>\n",
              "      <th>2</th>\n",
              "      <td>Tensor(\"block1_conv2_1/Relu:0\", shape=(?, 224, 224, 64), dtype=float32)</td>\n",
              "      <td>block1_conv2</td>\n",
              "      <td>True</td>\n",
              "    </tr>\n",
              "    <tr>\n",
              "      <th>3</th>\n",
              "      <td>Tensor(\"block1_pool_1/MaxPool:0\", shape=(?, 112, 112, 64), dtype=float32)</td>\n",
              "      <td>block1_pool</td>\n",
              "      <td>True</td>\n",
              "    </tr>\n",
              "    <tr>\n",
              "      <th>4</th>\n",
              "      <td>Tensor(\"block2_conv1_1/Relu:0\", shape=(?, 112, 112, 128), dtype=float32)</td>\n",
              "      <td>block2_conv1</td>\n",
              "      <td>True</td>\n",
              "    </tr>\n",
              "    <tr>\n",
              "      <th>5</th>\n",
              "      <td>Tensor(\"block2_conv2_1/Relu:0\", shape=(?, 112, 112, 128), dtype=float32)</td>\n",
              "      <td>block2_conv2</td>\n",
              "      <td>True</td>\n",
              "    </tr>\n",
              "    <tr>\n",
              "      <th>6</th>\n",
              "      <td>Tensor(\"block2_pool_1/MaxPool:0\", shape=(?, 56, 56, 128), dtype=float32)</td>\n",
              "      <td>block2_pool</td>\n",
              "      <td>True</td>\n",
              "    </tr>\n",
              "    <tr>\n",
              "      <th>7</th>\n",
              "      <td>Tensor(\"block3_conv1_1/Relu:0\", shape=(?, 56, 56, 256), dtype=float32)</td>\n",
              "      <td>block3_conv1</td>\n",
              "      <td>True</td>\n",
              "    </tr>\n",
              "    <tr>\n",
              "      <th>8</th>\n",
              "      <td>Tensor(\"block3_conv2_1/Relu:0\", shape=(?, 56, 56, 256), dtype=float32)</td>\n",
              "      <td>block3_conv2</td>\n",
              "      <td>True</td>\n",
              "    </tr>\n",
              "    <tr>\n",
              "      <th>9</th>\n",
              "      <td>Tensor(\"block3_conv3_1/Relu:0\", shape=(?, 56, 56, 256), dtype=float32)</td>\n",
              "      <td>block3_conv3</td>\n",
              "      <td>True</td>\n",
              "    </tr>\n",
              "    <tr>\n",
              "      <th>10</th>\n",
              "      <td>Tensor(\"block3_conv4_1/Relu:0\", shape=(?, 56, 56, 256), dtype=float32)</td>\n",
              "      <td>block3_conv4</td>\n",
              "      <td>True</td>\n",
              "    </tr>\n",
              "    <tr>\n",
              "      <th>11</th>\n",
              "      <td>Tensor(\"block3_pool_1/MaxPool:0\", shape=(?, 28, 28, 256), dtype=float32)</td>\n",
              "      <td>block3_pool</td>\n",
              "      <td>True</td>\n",
              "    </tr>\n",
              "    <tr>\n",
              "      <th>12</th>\n",
              "      <td>Tensor(\"block4_conv1_1/Relu:0\", shape=(?, 28, 28, 512), dtype=float32)</td>\n",
              "      <td>block4_conv1</td>\n",
              "      <td>True</td>\n",
              "    </tr>\n",
              "    <tr>\n",
              "      <th>13</th>\n",
              "      <td>Tensor(\"block4_conv2_1/Relu:0\", shape=(?, 28, 28, 512), dtype=float32)</td>\n",
              "      <td>block4_conv2</td>\n",
              "      <td>True</td>\n",
              "    </tr>\n",
              "    <tr>\n",
              "      <th>14</th>\n",
              "      <td>Tensor(\"block4_conv3_1/Relu:0\", shape=(?, 28, 28, 512), dtype=float32)</td>\n",
              "      <td>block4_conv3</td>\n",
              "      <td>True</td>\n",
              "    </tr>\n",
              "    <tr>\n",
              "      <th>15</th>\n",
              "      <td>Tensor(\"block4_conv4_1/Relu:0\", shape=(?, 28, 28, 512), dtype=float32)</td>\n",
              "      <td>block4_conv4</td>\n",
              "      <td>True</td>\n",
              "    </tr>\n",
              "    <tr>\n",
              "      <th>16</th>\n",
              "      <td>Tensor(\"block4_pool_1/MaxPool:0\", shape=(?, 14, 14, 512), dtype=float32)</td>\n",
              "      <td>block4_pool</td>\n",
              "      <td>True</td>\n",
              "    </tr>\n",
              "    <tr>\n",
              "      <th>17</th>\n",
              "      <td>Tensor(\"block5_conv1_1/Relu:0\", shape=(?, 14, 14, 512), dtype=float32)</td>\n",
              "      <td>block5_conv1</td>\n",
              "      <td>True</td>\n",
              "    </tr>\n",
              "    <tr>\n",
              "      <th>18</th>\n",
              "      <td>Tensor(\"block5_conv2_1/Relu:0\", shape=(?, 14, 14, 512), dtype=float32)</td>\n",
              "      <td>block5_conv2</td>\n",
              "      <td>True</td>\n",
              "    </tr>\n",
              "    <tr>\n",
              "      <th>19</th>\n",
              "      <td>Tensor(\"block5_conv3_1/Relu:0\", shape=(?, 14, 14, 512), dtype=float32)</td>\n",
              "      <td>block5_conv3</td>\n",
              "      <td>True</td>\n",
              "    </tr>\n",
              "    <tr>\n",
              "      <th>20</th>\n",
              "      <td>Tensor(\"block5_conv4_1/Relu:0\", shape=(?, 14, 14, 512), dtype=float32)</td>\n",
              "      <td>block5_conv4</td>\n",
              "      <td>True</td>\n",
              "    </tr>\n",
              "    <tr>\n",
              "      <th>21</th>\n",
              "      <td>Tensor(\"block5_pool_1/MaxPool:0\", shape=(?, 7, 7, 512), dtype=float32)</td>\n",
              "      <td>block5_pool</td>\n",
              "      <td>True</td>\n",
              "    </tr>\n",
              "    <tr>\n",
              "      <th>22</th>\n",
              "      <td>Tensor(\"flatten_2/Reshape:0\", shape=(?, ?), dtype=float32)</td>\n",
              "      <td>flatten_2</td>\n",
              "      <td>True</td>\n",
              "    </tr>\n",
              "    <tr>\n",
              "      <th>23</th>\n",
              "      <td>Tensor(\"dropout_3/cond/Merge:0\", shape=(?, ?), dtype=float32)</td>\n",
              "      <td>dropout_3</td>\n",
              "      <td>True</td>\n",
              "    </tr>\n",
              "    <tr>\n",
              "      <th>24</th>\n",
              "      <td>Tensor(\"dense_3/Relu:0\", shape=(?, 4096), dtype=float32)</td>\n",
              "      <td>dense_3</td>\n",
              "      <td>True</td>\n",
              "    </tr>\n",
              "    <tr>\n",
              "      <th>25</th>\n",
              "      <td>Tensor(\"dropout_4/cond/Merge:0\", shape=(?, 4096), dtype=float32)</td>\n",
              "      <td>dropout_4</td>\n",
              "      <td>True</td>\n",
              "    </tr>\n",
              "    <tr>\n",
              "      <th>26</th>\n",
              "      <td>Tensor(\"dense_4/Sigmoid:0\", shape=(?, 1), dtype=float32)</td>\n",
              "      <td>dense_4</td>\n",
              "      <td>True</td>\n",
              "    </tr>\n",
              "  </tbody>\n",
              "</table>\n",
              "</div>"
            ],
            "text/plain": [
              "                                                                   Layer Type  ... Layer Trainable\n",
              "0   Tensor(\"input_2:0\", shape=(?, 224, 224, 3), dtype=float32)                 ...  False         \n",
              "1   Tensor(\"block1_conv1_1/Relu:0\", shape=(?, 224, 224, 64), dtype=float32)    ...  True          \n",
              "2   Tensor(\"block1_conv2_1/Relu:0\", shape=(?, 224, 224, 64), dtype=float32)    ...  True          \n",
              "3   Tensor(\"block1_pool_1/MaxPool:0\", shape=(?, 112, 112, 64), dtype=float32)  ...  True          \n",
              "4   Tensor(\"block2_conv1_1/Relu:0\", shape=(?, 112, 112, 128), dtype=float32)   ...  True          \n",
              "5   Tensor(\"block2_conv2_1/Relu:0\", shape=(?, 112, 112, 128), dtype=float32)   ...  True          \n",
              "6   Tensor(\"block2_pool_1/MaxPool:0\", shape=(?, 56, 56, 128), dtype=float32)   ...  True          \n",
              "7   Tensor(\"block3_conv1_1/Relu:0\", shape=(?, 56, 56, 256), dtype=float32)     ...  True          \n",
              "8   Tensor(\"block3_conv2_1/Relu:0\", shape=(?, 56, 56, 256), dtype=float32)     ...  True          \n",
              "9   Tensor(\"block3_conv3_1/Relu:0\", shape=(?, 56, 56, 256), dtype=float32)     ...  True          \n",
              "10  Tensor(\"block3_conv4_1/Relu:0\", shape=(?, 56, 56, 256), dtype=float32)     ...  True          \n",
              "11  Tensor(\"block3_pool_1/MaxPool:0\", shape=(?, 28, 28, 256), dtype=float32)   ...  True          \n",
              "12  Tensor(\"block4_conv1_1/Relu:0\", shape=(?, 28, 28, 512), dtype=float32)     ...  True          \n",
              "13  Tensor(\"block4_conv2_1/Relu:0\", shape=(?, 28, 28, 512), dtype=float32)     ...  True          \n",
              "14  Tensor(\"block4_conv3_1/Relu:0\", shape=(?, 28, 28, 512), dtype=float32)     ...  True          \n",
              "15  Tensor(\"block4_conv4_1/Relu:0\", shape=(?, 28, 28, 512), dtype=float32)     ...  True          \n",
              "16  Tensor(\"block4_pool_1/MaxPool:0\", shape=(?, 14, 14, 512), dtype=float32)   ...  True          \n",
              "17  Tensor(\"block5_conv1_1/Relu:0\", shape=(?, 14, 14, 512), dtype=float32)     ...  True          \n",
              "18  Tensor(\"block5_conv2_1/Relu:0\", shape=(?, 14, 14, 512), dtype=float32)     ...  True          \n",
              "19  Tensor(\"block5_conv3_1/Relu:0\", shape=(?, 14, 14, 512), dtype=float32)     ...  True          \n",
              "20  Tensor(\"block5_conv4_1/Relu:0\", shape=(?, 14, 14, 512), dtype=float32)     ...  True          \n",
              "21  Tensor(\"block5_pool_1/MaxPool:0\", shape=(?, 7, 7, 512), dtype=float32)     ...  True          \n",
              "22  Tensor(\"flatten_2/Reshape:0\", shape=(?, ?), dtype=float32)                 ...  True          \n",
              "23  Tensor(\"dropout_3/cond/Merge:0\", shape=(?, ?), dtype=float32)              ...  True          \n",
              "24  Tensor(\"dense_3/Relu:0\", shape=(?, 4096), dtype=float32)                   ...  True          \n",
              "25  Tensor(\"dropout_4/cond/Merge:0\", shape=(?, 4096), dtype=float32)           ...  True          \n",
              "26  Tensor(\"dense_4/Sigmoid:0\", shape=(?, 1), dtype=float32)                   ...  True          \n",
              "\n",
              "[27 rows x 3 columns]"
            ]
          },
          "metadata": {
            "tags": []
          },
          "execution_count": 18
        }
      ]
    },
    {
      "cell_type": "code",
      "metadata": {
        "id": "uE5-aszKhbSC",
        "colab_type": "code",
        "colab": {}
      },
      "source": [
        "for i in range(17):\n",
        "  model.layers[i].trainable = False"
      ],
      "execution_count": 0,
      "outputs": []
    },
    {
      "cell_type": "code",
      "metadata": {
        "id": "l2BzXZlXimTO",
        "colab_type": "code",
        "colab": {}
      },
      "source": [
        "model.compile(optimizer = optimizers.Adam(lr=1e-4), loss= 'binary_crossentropy',\n",
        "              metrics = ['accuracy'])"
      ],
      "execution_count": 0,
      "outputs": []
    },
    {
      "cell_type": "code",
      "metadata": {
        "id": "u5gB74pwhcii",
        "colab_type": "code",
        "outputId": "7ccdbf7e-987f-4605-f16a-5b637787e0b3",
        "colab": {
          "base_uri": "https://localhost:8080/",
          "height": 54
        }
      },
      "source": [
        "train_datagen = ImageDataGenerator()\n",
        "train_generator = train_datagen.flow_from_directory(\n",
        "        '/content/alignedGender/train',\n",
        "        target_size=(224, 224),\n",
        "        batch_size=32,\n",
        "        class_mode='binary')\n",
        "validate_generator = train_datagen.flow_from_directory(\n",
        "        '/content/alignedGender/test',\n",
        "        target_size=(224, 224),\n",
        "        batch_size=32,\n",
        "        class_mode='binary')\n"
      ],
      "execution_count": 21,
      "outputs": [
        {
          "output_type": "stream",
          "text": [
            "Found 14047 images belonging to 2 classes.\n",
            "Found 3445 images belonging to 2 classes.\n"
          ],
          "name": "stdout"
        }
      ]
    },
    {
      "cell_type": "code",
      "metadata": {
        "id": "F25ps4cghits",
        "colab_type": "code",
        "outputId": "20166487-e2a2-435c-fb36-83874625a365",
        "colab": {
          "base_uri": "https://localhost:8080/",
          "height": 164
        }
      },
      "source": [
        "history = model.fit_generator(train_generator, steps_per_epoch=440, epochs=4, verbose=1, callbacks=None, validation_data=validate_generator, validation_steps=110, validation_freq=1, class_weight=None, max_queue_size=10, workers=-1, use_multiprocessing=True, shuffle=False)"
      ],
      "execution_count": 22,
      "outputs": [
        {
          "output_type": "stream",
          "text": [
            "Epoch 1/4\n",
            "440/440 [==============================] - 259s 589ms/step - loss: 8406.2803 - acc: 0.7621 - val_loss: 130.9474 - val_acc: 0.7555\n",
            "Epoch 2/4\n",
            "440/440 [==============================] - 254s 576ms/step - loss: 130.6202 - acc: 0.8753 - val_loss: 129.7835 - val_acc: 0.8438\n",
            "Epoch 3/4\n",
            "440/440 [==============================] - 253s 575ms/step - loss: 129.3122 - acc: 0.9162 - val_loss: 129.2493 - val_acc: 0.8282\n",
            "Epoch 4/4\n",
            "440/440 [==============================] - 252s 573ms/step - loss: 128.1365 - acc: 0.9354 - val_loss: 127.6305 - val_acc: 0.8621\n"
          ],
          "name": "stdout"
        }
      ]
    },
    {
      "cell_type": "code",
      "metadata": {
        "id": "I5e5ByvIhp-8",
        "colab_type": "code",
        "colab": {}
      },
      "source": [
        "  "
      ],
      "execution_count": 0,
      "outputs": []
    }
  ]
}